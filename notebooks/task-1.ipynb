{
 "cells": [
  {
   "cell_type": "code",
   "execution_count": 2,
   "metadata": {},
   "outputs": [],
   "source": [
    "import pandas as pd\n",
    "\n",
    "news_df = pd.read_csv('../data/raw_analyst_ratings/raw_analyst_ratings.csv')\n",
    "stock_df = pd.read_csv('../data/yfinance_data/AAPL_historical_data.csv')"
   ]
  },
  {
   "cell_type": "code",
   "execution_count": 2,
   "metadata": {},
   "outputs": [
    {
     "name": "stdout",
     "output_type": "stream",
     "text": [
      "count    1.407328e+06\n",
      "mean     7.312051e+01\n",
      "std      4.073531e+01\n",
      "min      3.000000e+00\n",
      "25%      4.700000e+01\n",
      "50%      6.400000e+01\n",
      "75%      8.700000e+01\n",
      "max      5.120000e+02\n",
      "Name: headline_length, dtype: float64\n",
      "publisher\n",
      "Paul Quintaro        228373\n",
      "Lisa Levin           186979\n",
      "Benzinga Newsdesk    150484\n",
      "Charles Gross         96732\n",
      "Monica Gerson         82380\n",
      "                      ...  \n",
      "MoneyGeek                 1\n",
      "muathe                    1\n",
      "Robert Morris             1\n",
      "LeftCoastHedgie           1\n",
      "Jeremie Capron            1\n",
      "Name: count, Length: 1034, dtype: int64\n"
     ]
    }
   ],
   "source": [
    "news_df['headline_length'] = news_df['headline'].apply(len)\n",
    "print(news_df['headline_length'].describe())\n",
    "\n",
    "article_counts = news_df['publisher'].value_counts()\n",
    "print(article_counts)\n"
   ]
  },
  {
   "cell_type": "code",
   "execution_count": 3,
   "metadata": {},
   "outputs": [],
   "source": [
    "from textblob import TextBlob\n",
    "\n",
    "def get_sentiment(text):\n",
    "    return TextBlob(text).sentiment.polarity\n",
    "\n",
    "news_df['sentiment'] = news_df['headline'].apply(get_sentiment)\n"
   ]
  },
  {
   "cell_type": "code",
   "execution_count": 4,
   "metadata": {},
   "outputs": [
    {
     "name": "stdout",
     "output_type": "stream",
     "text": [
      "[('vs', 162099), ('stocks', 161776), ('est', 140604), ('eps', 128897), ('market', 120558), ('shares', 114313), ('reports', 108710), ('update', 91723), ('earnings', 87399), ('sales', 79645), ('top', 79632), ('benzinga', 74516), ('pt', 73068), ('week', 69572), ('announces', 66591), ('price', 64407), ('buy', 64371), ('mid', 62263), ('downgrades', 61959), ('trading', 61182)]\n"
     ]
    }
   ],
   "source": [
    "from collections import defaultdict\n",
    "from nltk.corpus import stopwords\n",
    "import re\n",
    "\n",
    "stop_words = set(stopwords.words('english'))\n",
    "\n",
    "def clean_text(text):\n",
    "    words = re.findall(r'\\b[a-z]+\\b', text.lower())\n",
    "    return [word for word in words if word not in stop_words]\n",
    "\n",
    "word_counts = defaultdict(int)\n",
    "\n",
    "for headline in news_df['headline']:\n",
    "    words = clean_text(headline)\n",
    "    for word in words:\n",
    "        word_counts[word] += 1\n",
    "\n",
    "common_words = sorted(word_counts.items(), key=lambda item: item[1], reverse=True)[:20]\n",
    "\n",
    "print(common_words)\n"
   ]
  }
 ],
 "metadata": {
  "kernelspec": {
   "display_name": "venv",
   "language": "python",
   "name": "python3"
  },
  "language_info": {
   "codemirror_mode": {
    "name": "ipython",
    "version": 3
   },
   "file_extension": ".py",
   "mimetype": "text/x-python",
   "name": "python",
   "nbconvert_exporter": "python",
   "pygments_lexer": "ipython3",
   "version": "3.11.5"
  }
 },
 "nbformat": 4,
 "nbformat_minor": 2
}
